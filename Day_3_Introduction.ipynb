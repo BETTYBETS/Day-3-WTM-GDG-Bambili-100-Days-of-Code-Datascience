{
  "nbformat": 4,
  "nbformat_minor": 0,
  "metadata": {
    "colab": {
      "provenance": [],
      "authorship_tag": "ABX9TyNoNCmGsrysgaKJayNqL36M",
      "include_colab_link": true
    },
    "kernelspec": {
      "name": "python3",
      "display_name": "Python 3"
    },
    "language_info": {
      "name": "python"
    }
  },
  "cells": [
    {
      "cell_type": "markdown",
      "metadata": {
        "id": "view-in-github",
        "colab_type": "text"
      },
      "source": [
        "<a href=\"https://colab.research.google.com/github/BETTYBETS/Day-3-WTM-GDG-Bambili-100-Days-of-Code-Datascience/blob/main/Day_3_Introduction.ipynb\" target=\"_parent\"><img src=\"https://colab.research.google.com/assets/colab-badge.svg\" alt=\"Open In Colab\"/></a>"
      ]
    },
    {
      "cell_type": "code",
      "execution_count": 1,
      "metadata": {
        "id": "RpezTuQfF0yD"
      },
      "outputs": [],
      "source": [
        "answer=1+1"
      ]
    },
    {
      "cell_type": "code",
      "source": [
        "print(answer)"
      ],
      "metadata": {
        "colab": {
          "base_uri": "https://localhost:8080/"
        },
        "id": "GAbtQiRcRvkV",
        "outputId": "117da350-6cd6-42c6-dc72-80e61b6160fe"
      },
      "execution_count": 3,
      "outputs": [
        {
          "output_type": "stream",
          "name": "stdout",
          "text": [
            "2\n"
          ]
        }
      ]
    },
    {
      "cell_type": "code",
      "source": [
        "var1=2+2\n",
        "# var1 is and interger data type\n",
        "print(var1)"
      ],
      "metadata": {
        "colab": {
          "base_uri": "https://localhost:8080/"
        },
        "id": "Nefv5TQnRoPs",
        "outputId": "f81e02ab-942d-46c8-d927-56e00e58e28d"
      },
      "execution_count": 4,
      "outputs": [
        {
          "output_type": "stream",
          "name": "stdout",
          "text": [
            "4\n"
          ]
        }
      ]
    },
    {
      "cell_type": "markdown",
      "source": [
        "In this cell the value of 2+2 is assigned to var1"
      ],
      "metadata": {
        "id": "3Or1GXElXBba"
      }
    },
    {
      "cell_type": "code",
      "source": [
        "var2=3+2/5\n",
        "# var2 is a float data type\n",
        "print(var2)"
      ],
      "metadata": {
        "colab": {
          "base_uri": "https://localhost:8080/"
        },
        "id": "QI8p0Z9MSO0M",
        "outputId": "f18756c6-90e3-431a-d021-a1e38cf80927"
      },
      "execution_count": 5,
      "outputs": [
        {
          "output_type": "stream",
          "name": "stdout",
          "text": [
            "3.4\n"
          ]
        }
      ]
    },
    {
      "cell_type": "markdown",
      "source": [
        "In this cell the value of 3+2/5 is assigned to var2"
      ],
      "metadata": {
        "id": "2ibnLaEvXU5d"
      }
    },
    {
      "cell_type": "code",
      "source": [
        "var3=4*16\n",
        "print(var3)\n",
        "#var3 is an interger data type"
      ],
      "metadata": {
        "colab": {
          "base_uri": "https://localhost:8080/"
        },
        "id": "crWqfEadSlR8",
        "outputId": "b1a08880-e157-4e63-a8ae-e743e4a2c03e"
      },
      "execution_count": 22,
      "outputs": [
        {
          "output_type": "stream",
          "name": "stdout",
          "text": [
            "64\n"
          ]
        }
      ]
    },
    {
      "cell_type": "markdown",
      "source": [
        "In this cell the value of 4*16 is assigned to var3"
      ],
      "metadata": {
        "id": "B04mZK4AXlhJ"
      }
    },
    {
      "cell_type": "code",
      "source": [
        "var4=4**16\n",
        "print(var4)\n",
        "#var4 is an interger data type"
      ],
      "metadata": {
        "colab": {
          "base_uri": "https://localhost:8080/"
        },
        "id": "hvQfbW39S7ix",
        "outputId": "c2d2c465-e3c0-4597-d50a-21c53644473b"
      },
      "execution_count": 25,
      "outputs": [
        {
          "output_type": "stream",
          "name": "stdout",
          "text": [
            "4294967296\n"
          ]
        }
      ]
    },
    {
      "cell_type": "markdown",
      "source": [
        "In this cell the value of 4**16 is assigned to var4"
      ],
      "metadata": {
        "id": "HEKuSBunXzyb"
      }
    },
    {
      "cell_type": "code",
      "source": [
        "var5='Hello' +''+' Hello'\n",
        "print(var5)\n",
        "#var5 is a string data type"
      ],
      "metadata": {
        "colab": {
          "base_uri": "https://localhost:8080/"
        },
        "id": "oF0dqDzHTG93",
        "outputId": "27c29b2d-b7c9-4c85-8188-342f81df2ef0"
      },
      "execution_count": 19,
      "outputs": [
        {
          "output_type": "stream",
          "name": "stdout",
          "text": [
            "Hello Hello\n"
          ]
        }
      ]
    },
    {
      "cell_type": "markdown",
      "source": [
        "In this cell the value of 'Hello' +''+' Hello' is assigned to var5"
      ],
      "metadata": {
        "id": "bLunGBUUX6Ne"
      }
    },
    {
      "cell_type": "code",
      "source": [
        "var6='Hello World' * 5\n",
        "print(var6)\n",
        "#var6 is a string data type"
      ],
      "metadata": {
        "colab": {
          "base_uri": "https://localhost:8080/"
        },
        "id": "OTmpcJbMTlXg",
        "outputId": "67706dce-bdf1-4ec9-b8b1-5c7d98b5a41b"
      },
      "execution_count": 20,
      "outputs": [
        {
          "output_type": "stream",
          "name": "stdout",
          "text": [
            "Hello WorldHello WorldHello WorldHello WorldHello World\n"
          ]
        }
      ]
    },
    {
      "cell_type": "markdown",
      "source": [
        "In this cell the value of 'Hello World'*5 is assigned to var6"
      ],
      "metadata": {
        "id": "q0__TNhBX66O"
      }
    },
    {
      "cell_type": "code",
      "source": [
        "var7=4%3\n",
        "print(var7)\n",
        "# var7 is an interger data type"
      ],
      "metadata": {
        "colab": {
          "base_uri": "https://localhost:8080/"
        },
        "id": "CuVmgCVSUawA",
        "outputId": "6763a658-bd70-4ac6-a381-249e2761b3c7"
      },
      "execution_count": 28,
      "outputs": [
        {
          "output_type": "stream",
          "name": "stdout",
          "text": [
            "1\n"
          ]
        }
      ]
    },
    {
      "cell_type": "markdown",
      "source": [
        "In this cell the value of 4%3 is assigned to var7"
      ],
      "metadata": {
        "id": "YY1IDk9TYc7N"
      }
    }
  ]
}